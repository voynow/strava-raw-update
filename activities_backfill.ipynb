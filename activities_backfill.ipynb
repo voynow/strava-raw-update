{
 "cells": [
  {
   "cell_type": "code",
   "execution_count": 3,
   "metadata": {},
   "outputs": [],
   "source": [
    "import utils.s3 as s3\n",
    "\n",
    "import boto3\n",
    "import json"
   ]
  },
  {
   "cell_type": "code",
   "execution_count": 5,
   "metadata": {},
   "outputs": [],
   "source": [
    "activities = s3.get_activities()"
   ]
  },
  {
   "cell_type": "code",
   "execution_count": 6,
   "metadata": {},
   "outputs": [],
   "source": [
    "activities_dict = {activity['id']: activity for activity in activities}"
   ]
  },
  {
   "cell_type": "code",
   "execution_count": 7,
   "metadata": {},
   "outputs": [
    {
     "data": {
      "text/plain": [
       "{'ResponseMetadata': {'RequestId': 'JTT8H1DY3YHEKVD6',\n",
       "  'HostId': 'ZaBWQn3MApiMioKKTgAceVMyXuE9dzjE9FNFP6bIaDR8pK26HyH7zlSPe1taBfrJnXrR+kdB44M=',\n",
       "  'HTTPStatusCode': 200,\n",
       "  'HTTPHeaders': {'x-amz-id-2': 'ZaBWQn3MApiMioKKTgAceVMyXuE9dzjE9FNFP6bIaDR8pK26HyH7zlSPe1taBfrJnXrR+kdB44M=',\n",
       "   'x-amz-request-id': 'JTT8H1DY3YHEKVD6',\n",
       "   'date': 'Tue, 13 Dec 2022 20:25:38 GMT',\n",
       "   'etag': '\"06d4b86bdd0bab021f646d0c5dd02aef\"',\n",
       "   'server': 'AmazonS3',\n",
       "   'content-length': '0'},\n",
       "  'RetryAttempts': 0},\n",
       " 'ETag': '\"06d4b86bdd0bab021f646d0c5dd02aef\"'}"
      ]
     },
     "execution_count": 7,
     "metadata": {},
     "output_type": "execute_result"
    }
   ],
   "source": [
    "s3_resource = boto3.resource('s3')\n",
    "bucket_name = \"strava-raw\"\n",
    "\n",
    "s3_resource.Object(bucket_name, 'activities.json').put(Body=json.dumps(activities_dict))"
   ]
  },
  {
   "cell_type": "code",
   "execution_count": null,
   "metadata": {},
   "outputs": [],
   "source": []
  }
 ],
 "metadata": {
  "kernelspec": {
   "display_name": "venv",
   "language": "python",
   "name": "python3"
  },
  "language_info": {
   "codemirror_mode": {
    "name": "ipython",
    "version": 3
   },
   "file_extension": ".py",
   "mimetype": "text/x-python",
   "name": "python",
   "nbconvert_exporter": "python",
   "pygments_lexer": "ipython3",
   "version": "3.8.0 (tags/v3.8.0:fa919fd, Oct 14 2019, 19:37:50) [MSC v.1916 64 bit (AMD64)]"
  },
  "orig_nbformat": 4,
  "vscode": {
   "interpreter": {
    "hash": "d643f8de7e492a6c31ca86bf91cd34eed6eb8286f09de6f9d75649541c0345f8"
   }
  }
 },
 "nbformat": 4,
 "nbformat_minor": 2
}
