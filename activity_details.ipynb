{
 "cells": [
  {
   "cell_type": "code",
   "execution_count": 1,
   "metadata": {},
   "outputs": [],
   "source": [
    "%load_ext autoreload\n",
    "%autoreload 2"
   ]
  },
  {
   "cell_type": "code",
   "execution_count": 2,
   "metadata": {},
   "outputs": [],
   "source": [
    "import boto3\n",
    "import json\n",
    "import matplotlib.pyplot as plt\n",
    "import requests\n",
    "import pathlib\n",
    "import utils.configs as configs\n",
    "import utils.strava as strava\n",
    "\n",
    "plt.style.use('seaborn-v0_8-pastel')"
   ]
  },
  {
   "cell_type": "code",
   "execution_count": 3,
   "metadata": {},
   "outputs": [],
   "source": [
    "s3 = boto3.resource('s3')\n",
    "bucket_name = \"strava-raw\"\n",
    "\n",
    "resp = strava.auth().json()\n",
    "access_token = resp['access_token']"
   ]
  },
  {
   "cell_type": "code",
   "execution_count": 4,
   "metadata": {},
   "outputs": [],
   "source": [
    "activity_ids = []\n",
    "for obj in s3.Bucket(bucket_name).objects.all():\n",
    "    if pathlib.Path(obj.key).stem.isnumeric():\n",
    "        body_bytes = obj.get()['Body'].read()\n",
    "        activity_ids.append(json.loads(body_bytes)['id'])"
   ]
  },
  {
   "cell_type": "code",
   "execution_count": 17,
   "metadata": {},
   "outputs": [
    {
     "name": "stdout",
     "output_type": "stream",
     "text": [
      "Executing request 0 of 258\n",
      "Executing request 10 of 258\n",
      "Executing request 20 of 258\n",
      "Executing request 30 of 258\n",
      "Executing request 40 of 258\n",
      "Executing request 50 of 258\n",
      "Executing request 60 of 258\n",
      "Executing request 70 of 258\n",
      "Executing request 80 of 258\n",
      "Executing request 90 of 258\n",
      "Executing request 100 of 258\n",
      "Executing request 110 of 258\n",
      "Executing request 120 of 258\n",
      "Executing request 130 of 258\n",
      "Executing request 140 of 258\n",
      "Executing request 150 of 258\n",
      "Executing request 160 of 258\n",
      "Executing request 170 of 258\n",
      "Executing request 180 of 258\n",
      "Executing request 190 of 258\n",
      "Executing request 200 of 258\n",
      "Executing request 210 of 258\n",
      "Executing request 220 of 258\n",
      "Executing request 230 of 258\n",
      "Executing request 240 of 258\n",
      "Executing request 250 of 258\n"
     ]
    }
   ],
   "source": [
    "\"\"\" Tables: zones, laps, and streams\n",
    "    I invision that these will become three tables adjacent to the existing \"activities\" table\n",
    "    The three new tables branch from the activities table, where id is primary key for all\n",
    "\"\"\"\n",
    "tables = [\"zones\", \"laps\", \"streams\"]\n",
    "\n",
    "for table in tables:\n",
    "    data = strava.batch_get_request(table, activity_ids, access_token) \n",
    "    break\n",
    "json.dump(data, open(\"test.json\", 'w'))"
   ]
  },
  {
   "cell_type": "code",
   "execution_count": null,
   "metadata": {},
   "outputs": [],
   "source": []
  }
 ],
 "metadata": {
  "kernelspec": {
   "display_name": "venv",
   "language": "python",
   "name": "python3"
  },
  "language_info": {
   "codemirror_mode": {
    "name": "ipython",
    "version": 3
   },
   "file_extension": ".py",
   "mimetype": "text/x-python",
   "name": "python",
   "nbconvert_exporter": "python",
   "pygments_lexer": "ipython3",
   "version": "3.8.0"
  },
  "orig_nbformat": 4,
  "vscode": {
   "interpreter": {
    "hash": "bcdf0b423a2db60aeef7dfc53a1cb1c8d42fbe1305edde86e9046b8c135483b3"
   }
  }
 },
 "nbformat": 4,
 "nbformat_minor": 2
}
