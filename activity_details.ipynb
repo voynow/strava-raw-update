{
 "cells": [
  {
   "cell_type": "code",
   "execution_count": 1,
   "metadata": {},
   "outputs": [],
   "source": [
    "%load_ext autoreload\n",
    "%autoreload 2"
   ]
  },
  {
   "cell_type": "code",
   "execution_count": 2,
   "metadata": {},
   "outputs": [],
   "source": [
    "import boto3\n",
    "import json\n",
    "import matplotlib.pyplot as plt\n",
    "import requests\n",
    "import pathlib\n",
    "import utils.configs as configs\n",
    "import utils.strava as strava\n",
    "\n",
    "plt.style.use('seaborn-v0_8-pastel')"
   ]
  },
  {
   "cell_type": "code",
   "execution_count": 3,
   "metadata": {},
   "outputs": [
    {
     "name": "stderr",
     "output_type": "stream",
     "text": [
      "[WDM] - Downloading: 100%|██████████| 6.58M/6.58M [00:00<00:00, 18.4MB/s]\n"
     ]
    }
   ],
   "source": [
    "s3 = boto3.resource('s3')\n",
    "bucket_name = \"strava-raw\"\n",
    "\n",
    "resp = strava.auth().json()\n",
    "access_token = resp['access_token']"
   ]
  },
  {
   "cell_type": "code",
   "execution_count": 25,
   "metadata": {},
   "outputs": [],
   "source": [
    "activity_ids = []\n",
    "for obj in s3.Bucket(bucket_name).objects.all():\n",
    "    if pathlib.Path(obj.key).stem.isnumeric():\n",
    "        body_bytes = obj.get()['Body'].read()\n",
    "        activity_ids.append(json.loads(body_bytes)['id'])\n",
    "\n",
    "# working with a subset of activities\n",
    "activity_ids = activity_ids[:10]"
   ]
  },
  {
   "cell_type": "code",
   "execution_count": 28,
   "metadata": {},
   "outputs": [
    {
     "name": "stdout",
     "output_type": "stream",
     "text": [
      "zones: executing request 10 of 10\n",
      "laps: executing request 10 of 10\n",
      "streams: executing request 10 of 10\n"
     ]
    }
   ],
   "source": [
    "tables = [\"zones\", \"laps\", \"streams\"]\n",
    "\n",
    "for table in tables:\n",
    "    data = strava.batch_get_request(table, activity_ids, access_token) \n",
    "    s3.Object(bucket_name, f'{table}.json').put(Body=json.dumps(data))\n"
   ]
  },
  {
   "cell_type": "code",
   "execution_count": null,
   "metadata": {},
   "outputs": [],
   "source": []
  }
 ],
 "metadata": {
  "kernelspec": {
   "display_name": "venv",
   "language": "python",
   "name": "python3"
  },
  "language_info": {
   "codemirror_mode": {
    "name": "ipython",
    "version": 3
   },
   "file_extension": ".py",
   "mimetype": "text/x-python",
   "name": "python",
   "nbconvert_exporter": "python",
   "pygments_lexer": "ipython3",
   "version": "3.8.0"
  },
  "orig_nbformat": 4,
  "vscode": {
   "interpreter": {
    "hash": "bcdf0b423a2db60aeef7dfc53a1cb1c8d42fbe1305edde86e9046b8c135483b3"
   }
  }
 },
 "nbformat": 4,
 "nbformat_minor": 2
}
