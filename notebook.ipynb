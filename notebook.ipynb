{
 "cells": [
  {
   "cell_type": "code",
   "execution_count": 11,
   "metadata": {},
   "outputs": [],
   "source": [
    "import strava\n",
    "\n",
    "import requests"
   ]
  },
  {
   "cell_type": "code",
   "execution_count": 2,
   "metadata": {},
   "outputs": [],
   "source": [
    "resp = strava.auth()\n",
    "access_token = resp.json()['access_token']"
   ]
  },
  {
   "cell_type": "code",
   "execution_count": 21,
   "metadata": {},
   "outputs": [
    {
     "data": {
      "text/plain": [
       "8233022116"
      ]
     },
     "execution_count": 21,
     "metadata": {},
     "output_type": "execute_result"
    }
   ],
   "source": [
    "activities = strava.get_activities(access_token)\n",
    "activities[2]['id']"
   ]
  },
  {
   "cell_type": "code",
   "execution_count": 22,
   "metadata": {},
   "outputs": [],
   "source": [
    "activities_url = {\n",
    "    'url': 'https://www.strava.com/api/v3/activities/8239649371/laps',\n",
    "    'params': {'header': {'Authorization': f'Bearer {access_token}'},\n",
    "    'param': {'per_page': 200, 'page': 1}}\n",
    "}"
   ]
  },
  {
   "cell_type": "code",
   "execution_count": 23,
   "metadata": {},
   "outputs": [],
   "source": [
    "resp = requests.get(\n",
    "    activities_url['url'], \n",
    "    headers=activities_url['params']['header'], \n",
    "    params=activities_url['params']['param']\n",
    ")"
   ]
  },
  {
   "cell_type": "code",
   "execution_count": 26,
   "metadata": {},
   "outputs": [
    {
     "name": "stdout",
     "output_type": "stream",
     "text": [
      "132.8\n",
      "137.0\n",
      "146.1\n",
      "146.9\n",
      "149.1\n",
      "149.3\n",
      "170.3\n"
     ]
    }
   ],
   "source": [
    "for lap in resp.json():\n",
    "    print(lap['average_heartrate'])"
   ]
  },
  {
   "cell_type": "code",
   "execution_count": null,
   "metadata": {},
   "outputs": [],
   "source": []
  }
 ],
 "metadata": {
  "kernelspec": {
   "display_name": "venv",
   "language": "python",
   "name": "python3"
  },
  "language_info": {
   "codemirror_mode": {
    "name": "ipython",
    "version": 3
   },
   "file_extension": ".py",
   "mimetype": "text/x-python",
   "name": "python",
   "nbconvert_exporter": "python",
   "pygments_lexer": "ipython3",
   "version": "3.8.0"
  },
  "orig_nbformat": 4,
  "vscode": {
   "interpreter": {
    "hash": "d643f8de7e492a6c31ca86bf91cd34eed6eb8286f09de6f9d75649541c0345f8"
   }
  }
 },
 "nbformat": 4,
 "nbformat_minor": 2
}
