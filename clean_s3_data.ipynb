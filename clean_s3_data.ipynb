{
 "cells": [
  {
   "cell_type": "code",
   "execution_count": 5,
   "metadata": {},
   "outputs": [],
   "source": [
    "import boto3\n",
    "import json\n",
    "\n",
    "s3 = boto3.resource('s3')\n",
    "bucket_name = \"strava-raw\"\n",
    "details_tables = [\"zones\", \"laps\", \"streams\"]\n",
    "\n"
   ]
  },
  {
   "cell_type": "code",
   "execution_count": 23,
   "metadata": {},
   "outputs": [],
   "source": [
    "for table in details_tables:\n",
    "    filename = f\"{table}.json\"\n",
    "\n",
    "    data = json.loads(\n",
    "        s3.Object(bucket_name, filename).get()['Body'].read())\n",
    "\n",
    "    delete_keys = []\n",
    "    for k, v in data.items():\n",
    "        if 'message' in v:\n",
    "            delete_keys.append(k)\n",
    "\n",
    "    for k in delete_keys:\n",
    "        del data[k]\n",
    "\n",
    "\n",
    "    s3.Object(bucket_name, filename).put(Body=json.dumps(data))"
   ]
  },
  {
   "cell_type": "code",
   "execution_count": null,
   "metadata": {},
   "outputs": [],
   "source": []
  }
 ],
 "metadata": {
  "kernelspec": {
   "display_name": "venv",
   "language": "python",
   "name": "python3"
  },
  "language_info": {
   "codemirror_mode": {
    "name": "ipython",
    "version": 3
   },
   "file_extension": ".py",
   "mimetype": "text/x-python",
   "name": "python",
   "nbconvert_exporter": "python",
   "pygments_lexer": "ipython3",
   "version": "3.8.0 (tags/v3.8.0:fa919fd, Oct 14 2019, 19:37:50) [MSC v.1916 64 bit (AMD64)]"
  },
  "orig_nbformat": 4,
  "vscode": {
   "interpreter": {
    "hash": "bcdf0b423a2db60aeef7dfc53a1cb1c8d42fbe1305edde86e9046b8c135483b3"
   }
  }
 },
 "nbformat": 4,
 "nbformat_minor": 2
}
